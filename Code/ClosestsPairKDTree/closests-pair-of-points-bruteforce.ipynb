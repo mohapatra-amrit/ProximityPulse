{
 "cells": [
  {
   "cell_type": "code",
   "execution_count": 7,
   "metadata": {},
   "outputs": [
    {
     "name": "stdout",
     "output_type": "stream",
     "text": [
      "10000\n",
      "10\n",
      "<class 'numpy.ndarray'>\n"
     ]
    }
   ],
   "source": [
    "from numpy import random\n",
    "import time\n",
    "import numpy as np\n",
    "import math\n",
    "from decimal import *\n",
    "#Closest pair Brute Force Algorithm\n",
    "\n",
    "# #No of Dimensions in the Graph\n",
    "# n_dimension=int(input(\"Enter the no. of dimensions: \"))\n",
    "\n",
    "# #No of points in Graph\n",
    "# no_of_point=int(input(\"Enter the no. of points: \"))\n",
    "\n",
    "points =  random.randint(1000, size = (10000, 10))\n",
    "print(len(points))\n",
    "print(len(points[0]))\n",
    "print(type(points))\n"
   ]
  },
  {
   "cell_type": "code",
   "execution_count": 8,
   "metadata": {},
   "outputs": [],
   "source": [
    "\n",
    "# for i in range(len(points)):\n",
    "#     print(f\"[{points[i][0]},{points[i][1]}],\")"
   ]
  },
  {
   "cell_type": "code",
   "execution_count": 9,
   "metadata": {},
   "outputs": [
    {
     "ename": "KeyboardInterrupt",
     "evalue": "",
     "output_type": "error",
     "traceback": [
      "\u001b[1;31m---------------------------------------------------------------------------\u001b[0m",
      "\u001b[1;31mKeyboardInterrupt\u001b[0m                         Traceback (most recent call last)",
      "\u001b[1;32mc:\\_Everything\\2220219\\Semester 1\\Project\\Algorithm\\ClosestsPairKDTree\\closests-pair-of-points-bruteforce.ipynb Cell 3\u001b[0m in \u001b[0;36m<cell line: 22>\u001b[1;34m()\u001b[0m\n\u001b[0;32m     <a href='vscode-notebook-cell:/c%3A/_Everything/2220219/Semester%201/Project/Algorithm/ClosestsPairKDTree/closests-pair-of-points-bruteforce.ipynb#W2sZmlsZQ%3D%3D?line=25'>26</a>\u001b[0m temp_points\u001b[39m=\u001b[39m[]\n\u001b[0;32m     <a href='vscode-notebook-cell:/c%3A/_Everything/2220219/Semester%201/Project/Algorithm/ClosestsPairKDTree/closests-pair-of-points-bruteforce.ipynb#W2sZmlsZQ%3D%3D?line=26'>27</a>\u001b[0m \u001b[39mfor\u001b[39;00m k \u001b[39min\u001b[39;00m \u001b[39mrange\u001b[39m(\u001b[39mlen\u001b[39m(points[\u001b[39m0\u001b[39m])):\n\u001b[1;32m---> <a href='vscode-notebook-cell:/c%3A/_Everything/2220219/Semester%201/Project/Algorithm/ClosestsPairKDTree/closests-pair-of-points-bruteforce.ipynb#W2sZmlsZQ%3D%3D?line=27'>28</a>\u001b[0m     \u001b[39msum\u001b[39m\u001b[39m=\u001b[39m\u001b[39msum\u001b[39m\u001b[39m+\u001b[39m\u001b[39mpow\u001b[39m(\u001b[39mabs\u001b[39;49m(points[i][k]\u001b[39m-\u001b[39;49mpoints[j][k]),\u001b[39m2\u001b[39m)\n\u001b[0;32m     <a href='vscode-notebook-cell:/c%3A/_Everything/2220219/Semester%201/Project/Algorithm/ClosestsPairKDTree/closests-pair-of-points-bruteforce.ipynb#W2sZmlsZQ%3D%3D?line=28'>29</a>\u001b[0m     temp_points\u001b[39m.\u001b[39mappend(i\u001b[39m+\u001b[39m\u001b[39m1\u001b[39m)\n\u001b[0;32m     <a href='vscode-notebook-cell:/c%3A/_Everything/2220219/Semester%201/Project/Algorithm/ClosestsPairKDTree/closests-pair-of-points-bruteforce.ipynb#W2sZmlsZQ%3D%3D?line=29'>30</a>\u001b[0m     temp_points\u001b[39m.\u001b[39mappend(j\u001b[39m+\u001b[39m\u001b[39m1\u001b[39m)\n",
      "\u001b[1;31mKeyboardInterrupt\u001b[0m: "
     ]
    }
   ],
   "source": [
    "# #N-D Array to store the points in the graph\n",
    "# ans=[]\n",
    "\n",
    "# #For loop for storing all the points in the graph\n",
    "# for i in range(0,no_of_point):\n",
    "#     temp=[]\n",
    "#     for j in range(n_dimension):\n",
    "#         temp.append(int(input()))\n",
    "#     ans.append(temp)\n",
    "\n",
    "# print(\"*************************\")\n",
    "# print(ans)\n",
    "# print(\"**************************\")\n",
    "\n",
    "#\n",
    "min=float(\"inf\")\n",
    "ans_points=[]\n",
    "temp_points=[]\n",
    "\n",
    "start = time.time()\n",
    "\n",
    "for i in range(len(points)):\n",
    "    sum=np.float64(\"0\")\n",
    "\n",
    "    for j in range(i+1,len(points)):\n",
    "        temp_points=[]\n",
    "        for k in range(len(points[0])):\n",
    "            sum=sum+pow(abs(points[i][k]-points[j][k]),2)\n",
    "            temp_points.append(i+1)\n",
    "            temp_points.append(j+1)\n",
    "        \n",
    "        sum = sum ** 0.5\n",
    "        \n",
    "        if(sum<min):\n",
    "            if(len(ans_points)!=0):\n",
    "                ans_points.pop()\n",
    "                ans_points.pop()\n",
    "            ans_points.append(temp_points[0])\n",
    "            ans_points.append(temp_points[1])\n",
    "            min=sum\n",
    "\n",
    "finish = time.time()\n",
    "print(\"Minimum distance between two points \"+str(min),\"\\n\",\"Points are \"+str(ans_points))\n",
    "print(f\"Total time taken is : {finish - start}\")"
   ]
  },
  {
   "cell_type": "code",
   "execution_count": null,
   "metadata": {},
   "outputs": [],
   "source": []
  }
 ],
 "metadata": {
  "kernelspec": {
   "display_name": "Python 3.9.12 ('base')",
   "language": "python",
   "name": "python3"
  },
  "language_info": {
   "codemirror_mode": {
    "name": "ipython",
    "version": 3
   },
   "file_extension": ".py",
   "mimetype": "text/x-python",
   "name": "python",
   "nbconvert_exporter": "python",
   "pygments_lexer": "ipython3",
   "version": "3.9.12"
  },
  "orig_nbformat": 4,
  "vscode": {
   "interpreter": {
    "hash": "6d7de557c14be326c3c8a99879c8eb1475a431899e31e5ec0ec417bb413ff7fe"
   }
  }
 },
 "nbformat": 4,
 "nbformat_minor": 2
}
